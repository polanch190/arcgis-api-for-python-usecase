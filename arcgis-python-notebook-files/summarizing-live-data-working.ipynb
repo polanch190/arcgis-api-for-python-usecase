{
 "cells": [
  {
   "cell_type": "markdown",
   "metadata": {
    "tags": []
   },
   "source": [
    "### __How to use ArcgGIS API for python to build an ArcGIS Dashboard__"
   ]
  },
  {
   "cell_type": "markdown",
   "metadata": {},
   "source": [
    "This notebook is a walk through of how to use ArcgGIS API for python to connect to a ArcGIS online geodatabase and build a ArcGIS Dashboard. The data used in this tutorial derived from Hudson River Park's community compost data. The purpose of this dashboard is to visualize the sucess of the composting program throughout the park and to incentivize locals to contribute to a compost bin in their community.  "
   ]
  },
  {
   "cell_type": "code",
   "execution_count": 25,
   "metadata": {},
   "outputs": [],
   "source": [
    "from arcgis import GIS\n",
    "import pandas as pd\n",
    "from datetime import datetime\n",
    "import json"
   ]
  },
  {
   "cell_type": "code",
   "execution_count": 26,
   "metadata": {},
   "outputs": [],
   "source": [
    "# connect to ArcGIS Online using your company's username\n",
    "portal = \"https://hrpt.maps.arcgis.com/\"\n",
    "user = \"company_username\"\n",
    "gis = GIS( profile=\"learn_user\")"
   ]
  },
  {
   "cell_type": "code",
   "execution_count": 27,
   "metadata": {},
   "outputs": [
    {
     "data": {
      "text/plain": [
       "<FeatureLayer url:\"https://services.arcgis.com/4oSdFB1Bw9eBgXJz/arcgis/rest/services/Cartegraph_Tasks/FeatureServer/0\">"
      ]
     },
     "execution_count": 27,
     "metadata": {},
     "output_type": "execute_result"
    }
   ],
   "source": [
    "# source layer that has the live, un-summarized data\n",
    "source_live_layer_item_id = '80fcd22ad0fd4e419512869738929740'\n",
    "source_live_layer = gis.content.get(source_live_layer_item_id)\n",
    "flayer = source_live_layer.layers[0]\n",
    "flayer"
   ]
  },
  {
   "cell_type": "markdown",
   "metadata": {
    "tags": []
   },
   "source": [
    "##### Recalculate the year, month name, and month number for each row in the live layer\n",
    "Step 1"
   ]
  },
  {
   "cell_type": "code",
   "execution_count": 28,
   "metadata": {},
   "outputs": [
    {
     "name": "stdout",
     "output_type": "stream",
     "text": [
      "3704 edits ready to update\n"
     ]
    }
   ],
   "source": [
    "# Name of the datetime field we will use to parse out the needed date elements\n",
    "source_date_field_name = 'StopDateActual'\n",
    "\n",
    "# out fields to bring back in our query\n",
    "out_fields = ['OBJECTID', source_date_field_name, 'Year_Date', 'Month_Name', 'Month_Num']\n",
    "\n",
    "# query for all the features in the live layer\n",
    "res = flayer.query(where=\"1=1\", out_fields=out_fields, return_geometry=False)\n",
    "\n",
    "# loop through each feature, and parse out the date information we need\n",
    "# building a list of edits along the way\n",
    "# Note: res is short for result\n",
    "edits = []\n",
    "for f in res:\n",
    "  # get the object id that is needed to update the correct feature\n",
    "  oid = f.attributes['OBJECTID']\n",
    "  \n",
    "  # get the datetime value from the feature stored in milliseconds\n",
    "  dte_ms = f.attributes[source_date_field_name]\n",
    "\n",
    "  # convert the milliseconds to a datetime object so we can parse out the year and month\n",
    "  dte_obj = datetime.fromtimestamp(dte_ms/1000)\n",
    "  dte_year = dte_obj.year\n",
    "  dte_month = dte_obj.month\n",
    "  dte_month_name = dte_obj.strftime('%B')\n",
    "  \n",
    "\n",
    "  edit = {\n",
    "    'attributes': {\n",
    "      'OBJECTID': oid,\n",
    "      'Year_Date': dte_year,\n",
    "      'Month_Name': dte_month_name,\n",
    "      'Month_Num': dte_month\n",
    "    }\n",
    "  }\n",
    "\n",
    "  # add the edit to the list of edits\n",
    "  edits.append(edit)\n",
    "\n",
    "print(f'{len(edits)} edits ready to update')"
   ]
  },
  {
   "cell_type": "markdown",
   "metadata": {
    "tags": []
   },
   "source": [
    "##### Step 2 edit the live layer so that it now has the year, month number, and month name\n",
    "\n",
    "**Note:** Be sure to check through each result to see if there were any errors."
   ]
  },
  {
   "cell_type": "code",
   "execution_count": 29,
   "metadata": {},
   "outputs": [
    {
     "name": "stdout",
     "output_type": "stream",
     "text": [
      "done updating live layer\n"
     ]
    }
   ],
   "source": [
    "edit_res = flayer.edit_features(updates=edits)\n",
    "\n",
    "for er in edit_res['updateResults']:\n",
    "  if er['success'] != True:\n",
    "    print(f'error in updating feature with OBJECTID: {er[\"objectId\"]}')\n",
    "    print(er)\n",
    "\n",
    "print('done updating live layer')"
   ]
  },
  {
   "cell_type": "markdown",
   "metadata": {},
   "source": [
    "##### This is the layer that will hold the live, summarized data #Compost_flayer_sum"
   ]
  },
  {
   "cell_type": "code",
   "execution_count": 30,
   "metadata": {},
   "outputs": [
    {
     "data": {
      "text/plain": [
       "<FeatureLayer url:\"https://services.arcgis.com/4oSdFB1Bw9eBgXJz/arcgis/rest/services/Compost_flayer_sum/FeatureServer/0\">"
      ]
     },
     "execution_count": 30,
     "metadata": {},
     "output_type": "execute_result"
    }
   ],
   "source": [
    "source_summarized_layer_item_id = 'ee0a7e467b564afca982cb958503173c' \n",
    "source_summarized_layer = gis.content.get(source_summarized_layer_item_id)\n",
    "flayer_summarized = source_summarized_layer.layers[0]\n",
    "flayer_summarized"
   ]
  },
  {
   "cell_type": "markdown",
   "metadata": {},
   "source": [
    "##### Now run a query for all locations' geometry and drop_duplicates to get unique list of locations and their geometry.\n",
    "\n",
    "**Note:** The data used in this tutorial is derived from an ArcGIS online geodatabase that is \n",
    "connected to a cartegraph operations managment system. This system is where data about an asset (feature)\n",
    "is entered by a field team member.Therefore,'cgAssetID' is the compost bin asset number associated with a arcgis online feature. The information about this asset/ bin number is continuously populated by a field team member \n",
    "and is associated with a point."
   ]
  },
  {
   "cell_type": "code",
   "execution_count": 31,
   "metadata": {},
   "outputs": [],
   "source": [
    "locations_res = flayer.query(where='1=1', out_fields='cgAssetID')\n",
    "unique_locations = locations_res.sdf.drop_duplicates(subset=['cgAssetID'], inplace=False)"
   ]
  },
  {
   "cell_type": "markdown",
   "metadata": {},
   "source": [
    "##### Helper function to get the geometry of a location by LocationDescription value."
   ]
  },
  {
   "cell_type": "code",
   "execution_count": 32,
   "metadata": {},
   "outputs": [],
   "source": [
    "def get_location_geometry(location_name):\n",
    "  shape_json = unique_locations.loc[unique_locations['cgAssetID'] == location_name, 'SHAPE'].iloc[0]\n",
    "  return shape_json.JSON"
   ]
  },
  {
   "cell_type": "markdown",
   "metadata": {},
   "source": [
    "##### Query for summarized statistics for each location by year, by month"
   ]
  },
  {
   "cell_type": "code",
   "execution_count": 33,
   "metadata": {},
   "outputs": [
    {
     "name": "stdout",
     "output_type": "stream",
     "text": [
      "successfully summarized query into 412 features\n"
     ]
    }
   ],
   "source": [
    "out_statistics = [\n",
    "   {\n",
    "      'statisticType': 'sum',\n",
    "      'onStatisticField': 'FoodScraps_float',\n",
    "      'outStatisticFieldName': 'FoodScraps_float_sum'\n",
    "   }\n",
    "]\n",
    "\n",
    "group_by_fields = 'cgAssetID, LocationDescription, Year_Date, Month_num, Month_Name'\n",
    "\n",
    "res = flayer.query(where='1=1', out_statistics=out_statistics, group_by_fields_for_statistics=group_by_fields)\n",
    "print(f'successfully summarized query into {len(res)} features')"
   ]
  },
  {
   "cell_type": "markdown",
   "metadata": {
    "tags": []
   },
   "source": [
    "##### Combine attributes with geometry.\n",
    "\n",
    "_Note: you need to specify geom as a json object like this json.load(geom) for it to show up on the map._\n",
    "_If it's a string than loads and if it's a bianary file then use load:_ \n",
    "_https://stackoverflow.com/questions/11174024/attributeerrorstr-object-has-no-attribute-read_"
   ]
  },
  {
   "cell_type": "code",
   "execution_count": 34,
   "metadata": {},
   "outputs": [
    {
     "name": "stdout",
     "output_type": "stream",
     "text": [
      "successfully combined 412 features with geometry to update\n"
     ]
    }
   ],
   "source": [
    "# \n",
    "features = []\n",
    "for f in res:\n",
    "  feature = f.as_dict\n",
    "  loc_name = feature['attributes']['cgAssetID']\n",
    "  geom = get_location_geometry(loc_name)\n",
    "  if geom is None:\n",
    "    print (f'unable to get geometry for {loc_name} ... continuing.')\n",
    "    continue\n",
    "    \n",
    "  # feature['geometry'] = geom\n",
    "\n",
    "  feature['geometry'] = json.loads(geom)  \n",
    "  features.append(feature)\n",
    "\n",
    "print(f'successfully combined {len(features)} features with geometry to update')\n",
    "\n"
   ]
  },
  {
   "cell_type": "markdown",
   "metadata": {},
   "source": [
    "##### Delete existing features."
   ]
  },
  {
   "cell_type": "code",
   "execution_count": 35,
   "metadata": {},
   "outputs": [
    {
     "data": {
      "text/plain": [
       "{'success': True}"
      ]
     },
     "execution_count": 35,
     "metadata": {},
     "output_type": "execute_result"
    }
   ],
   "source": [
    "trunc_res = flayer_summarized.manager.truncate()\n",
    "trunc_res"
   ]
  },
  {
   "cell_type": "markdown",
   "metadata": {},
   "source": [
    "##### Add in our new features."
   ]
  },
  {
   "cell_type": "code",
   "execution_count": 36,
   "metadata": {},
   "outputs": [
    {
     "data": {
      "text/plain": [
       "{'addResults': [{'objectId': 1,\n",
       "   'uniqueId': 1,\n",
       "   'globalId': None,\n",
       "   'success': True},\n",
       "  {'objectId': 2, 'uniqueId': 2, 'globalId': None, 'success': True},\n",
       "  {'objectId': 3, 'uniqueId': 3, 'globalId': None, 'success': True},\n",
       "  {'objectId': 4, 'uniqueId': 4, 'globalId': None, 'success': True},\n",
       "  {'objectId': 5, 'uniqueId': 5, 'globalId': None, 'success': True},\n",
       "  {'objectId': 6, 'uniqueId': 6, 'globalId': None, 'success': True},\n",
       "  {'objectId': 7, 'uniqueId': 7, 'globalId': None, 'success': True},\n",
       "  {'objectId': 8, 'uniqueId': 8, 'globalId': None, 'success': True},\n",
       "  {'objectId': 9, 'uniqueId': 9, 'globalId': None, 'success': True},\n",
       "  {'objectId': 10, 'uniqueId': 10, 'globalId': None, 'success': True},\n",
       "  {'objectId': 11, 'uniqueId': 11, 'globalId': None, 'success': True},\n",
       "  {'objectId': 12, 'uniqueId': 12, 'globalId': None, 'success': True},\n",
       "  {'objectId': 13, 'uniqueId': 13, 'globalId': None, 'success': True},\n",
       "  {'objectId': 14, 'uniqueId': 14, 'globalId': None, 'success': True},\n",
       "  {'objectId': 15, 'uniqueId': 15, 'globalId': None, 'success': True},\n",
       "  {'objectId': 16, 'uniqueId': 16, 'globalId': None, 'success': True},\n",
       "  {'objectId': 17, 'uniqueId': 17, 'globalId': None, 'success': True},\n",
       "  {'objectId': 18, 'uniqueId': 18, 'globalId': None, 'success': True},\n",
       "  {'objectId': 19, 'uniqueId': 19, 'globalId': None, 'success': True},\n",
       "  {'objectId': 20, 'uniqueId': 20, 'globalId': None, 'success': True},\n",
       "  {'objectId': 21, 'uniqueId': 21, 'globalId': None, 'success': True},\n",
       "  {'objectId': 22, 'uniqueId': 22, 'globalId': None, 'success': True},\n",
       "  {'objectId': 23, 'uniqueId': 23, 'globalId': None, 'success': True},\n",
       "  {'objectId': 24, 'uniqueId': 24, 'globalId': None, 'success': True},\n",
       "  {'objectId': 25, 'uniqueId': 25, 'globalId': None, 'success': True},\n",
       "  {'objectId': 26, 'uniqueId': 26, 'globalId': None, 'success': True},\n",
       "  {'objectId': 27, 'uniqueId': 27, 'globalId': None, 'success': True},\n",
       "  {'objectId': 28, 'uniqueId': 28, 'globalId': None, 'success': True},\n",
       "  {'objectId': 29, 'uniqueId': 29, 'globalId': None, 'success': True},\n",
       "  {'objectId': 30, 'uniqueId': 30, 'globalId': None, 'success': True},\n",
       "  {'objectId': 31, 'uniqueId': 31, 'globalId': None, 'success': True},\n",
       "  {'objectId': 32, 'uniqueId': 32, 'globalId': None, 'success': True},\n",
       "  {'objectId': 33, 'uniqueId': 33, 'globalId': None, 'success': True},\n",
       "  {'objectId': 34, 'uniqueId': 34, 'globalId': None, 'success': True},\n",
       "  {'objectId': 35, 'uniqueId': 35, 'globalId': None, 'success': True},\n",
       "  {'objectId': 36, 'uniqueId': 36, 'globalId': None, 'success': True},\n",
       "  {'objectId': 37, 'uniqueId': 37, 'globalId': None, 'success': True},\n",
       "  {'objectId': 38, 'uniqueId': 38, 'globalId': None, 'success': True},\n",
       "  {'objectId': 39, 'uniqueId': 39, 'globalId': None, 'success': True},\n",
       "  {'objectId': 40, 'uniqueId': 40, 'globalId': None, 'success': True},\n",
       "  {'objectId': 41, 'uniqueId': 41, 'globalId': None, 'success': True},\n",
       "  {'objectId': 42, 'uniqueId': 42, 'globalId': None, 'success': True},\n",
       "  {'objectId': 43, 'uniqueId': 43, 'globalId': None, 'success': True},\n",
       "  {'objectId': 44, 'uniqueId': 44, 'globalId': None, 'success': True},\n",
       "  {'objectId': 45, 'uniqueId': 45, 'globalId': None, 'success': True},\n",
       "  {'objectId': 46, 'uniqueId': 46, 'globalId': None, 'success': True},\n",
       "  {'objectId': 47, 'uniqueId': 47, 'globalId': None, 'success': True},\n",
       "  {'objectId': 48, 'uniqueId': 48, 'globalId': None, 'success': True},\n",
       "  {'objectId': 49, 'uniqueId': 49, 'globalId': None, 'success': True},\n",
       "  {'objectId': 50, 'uniqueId': 50, 'globalId': None, 'success': True},\n",
       "  {'objectId': 51, 'uniqueId': 51, 'globalId': None, 'success': True},\n",
       "  {'objectId': 52, 'uniqueId': 52, 'globalId': None, 'success': True},\n",
       "  {'objectId': 53, 'uniqueId': 53, 'globalId': None, 'success': True},\n",
       "  {'objectId': 54, 'uniqueId': 54, 'globalId': None, 'success': True},\n",
       "  {'objectId': 55, 'uniqueId': 55, 'globalId': None, 'success': True},\n",
       "  {'objectId': 56, 'uniqueId': 56, 'globalId': None, 'success': True},\n",
       "  {'objectId': 57, 'uniqueId': 57, 'globalId': None, 'success': True},\n",
       "  {'objectId': 58, 'uniqueId': 58, 'globalId': None, 'success': True},\n",
       "  {'objectId': 59, 'uniqueId': 59, 'globalId': None, 'success': True},\n",
       "  {'objectId': 60, 'uniqueId': 60, 'globalId': None, 'success': True},\n",
       "  {'objectId': 61, 'uniqueId': 61, 'globalId': None, 'success': True},\n",
       "  {'objectId': 62, 'uniqueId': 62, 'globalId': None, 'success': True},\n",
       "  {'objectId': 63, 'uniqueId': 63, 'globalId': None, 'success': True},\n",
       "  {'objectId': 64, 'uniqueId': 64, 'globalId': None, 'success': True},\n",
       "  {'objectId': 65, 'uniqueId': 65, 'globalId': None, 'success': True},\n",
       "  {'objectId': 66, 'uniqueId': 66, 'globalId': None, 'success': True},\n",
       "  {'objectId': 67, 'uniqueId': 67, 'globalId': None, 'success': True},\n",
       "  {'objectId': 68, 'uniqueId': 68, 'globalId': None, 'success': True},\n",
       "  {'objectId': 69, 'uniqueId': 69, 'globalId': None, 'success': True},\n",
       "  {'objectId': 70, 'uniqueId': 70, 'globalId': None, 'success': True},\n",
       "  {'objectId': 71, 'uniqueId': 71, 'globalId': None, 'success': True},\n",
       "  {'objectId': 72, 'uniqueId': 72, 'globalId': None, 'success': True},\n",
       "  {'objectId': 73, 'uniqueId': 73, 'globalId': None, 'success': True},\n",
       "  {'objectId': 74, 'uniqueId': 74, 'globalId': None, 'success': True},\n",
       "  {'objectId': 75, 'uniqueId': 75, 'globalId': None, 'success': True},\n",
       "  {'objectId': 76, 'uniqueId': 76, 'globalId': None, 'success': True},\n",
       "  {'objectId': 77, 'uniqueId': 77, 'globalId': None, 'success': True},\n",
       "  {'objectId': 78, 'uniqueId': 78, 'globalId': None, 'success': True},\n",
       "  {'objectId': 79, 'uniqueId': 79, 'globalId': None, 'success': True},\n",
       "  {'objectId': 80, 'uniqueId': 80, 'globalId': None, 'success': True},\n",
       "  {'objectId': 81, 'uniqueId': 81, 'globalId': None, 'success': True},\n",
       "  {'objectId': 82, 'uniqueId': 82, 'globalId': None, 'success': True},\n",
       "  {'objectId': 83, 'uniqueId': 83, 'globalId': None, 'success': True},\n",
       "  {'objectId': 84, 'uniqueId': 84, 'globalId': None, 'success': True},\n",
       "  {'objectId': 85, 'uniqueId': 85, 'globalId': None, 'success': True},\n",
       "  {'objectId': 86, 'uniqueId': 86, 'globalId': None, 'success': True},\n",
       "  {'objectId': 87, 'uniqueId': 87, 'globalId': None, 'success': True},\n",
       "  {'objectId': 88, 'uniqueId': 88, 'globalId': None, 'success': True},\n",
       "  {'objectId': 89, 'uniqueId': 89, 'globalId': None, 'success': True},\n",
       "  {'objectId': 90, 'uniqueId': 90, 'globalId': None, 'success': True},\n",
       "  {'objectId': 91, 'uniqueId': 91, 'globalId': None, 'success': True},\n",
       "  {'objectId': 92, 'uniqueId': 92, 'globalId': None, 'success': True},\n",
       "  {'objectId': 93, 'uniqueId': 93, 'globalId': None, 'success': True},\n",
       "  {'objectId': 94, 'uniqueId': 94, 'globalId': None, 'success': True},\n",
       "  {'objectId': 95, 'uniqueId': 95, 'globalId': None, 'success': True},\n",
       "  {'objectId': 96, 'uniqueId': 96, 'globalId': None, 'success': True},\n",
       "  {'objectId': 97, 'uniqueId': 97, 'globalId': None, 'success': True},\n",
       "  {'objectId': 98, 'uniqueId': 98, 'globalId': None, 'success': True},\n",
       "  {'objectId': 99, 'uniqueId': 99, 'globalId': None, 'success': True},\n",
       "  {'objectId': 100, 'uniqueId': 100, 'globalId': None, 'success': True},\n",
       "  {'objectId': 101, 'uniqueId': 101, 'globalId': None, 'success': True},\n",
       "  {'objectId': 102, 'uniqueId': 102, 'globalId': None, 'success': True},\n",
       "  {'objectId': 103, 'uniqueId': 103, 'globalId': None, 'success': True},\n",
       "  {'objectId': 104, 'uniqueId': 104, 'globalId': None, 'success': True},\n",
       "  {'objectId': 105, 'uniqueId': 105, 'globalId': None, 'success': True},\n",
       "  {'objectId': 106, 'uniqueId': 106, 'globalId': None, 'success': True},\n",
       "  {'objectId': 107, 'uniqueId': 107, 'globalId': None, 'success': True},\n",
       "  {'objectId': 108, 'uniqueId': 108, 'globalId': None, 'success': True},\n",
       "  {'objectId': 109, 'uniqueId': 109, 'globalId': None, 'success': True},\n",
       "  {'objectId': 110, 'uniqueId': 110, 'globalId': None, 'success': True},\n",
       "  {'objectId': 111, 'uniqueId': 111, 'globalId': None, 'success': True},\n",
       "  {'objectId': 112, 'uniqueId': 112, 'globalId': None, 'success': True},\n",
       "  {'objectId': 113, 'uniqueId': 113, 'globalId': None, 'success': True},\n",
       "  {'objectId': 114, 'uniqueId': 114, 'globalId': None, 'success': True},\n",
       "  {'objectId': 115, 'uniqueId': 115, 'globalId': None, 'success': True},\n",
       "  {'objectId': 116, 'uniqueId': 116, 'globalId': None, 'success': True},\n",
       "  {'objectId': 117, 'uniqueId': 117, 'globalId': None, 'success': True},\n",
       "  {'objectId': 118, 'uniqueId': 118, 'globalId': None, 'success': True},\n",
       "  {'objectId': 119, 'uniqueId': 119, 'globalId': None, 'success': True},\n",
       "  {'objectId': 120, 'uniqueId': 120, 'globalId': None, 'success': True},\n",
       "  {'objectId': 121, 'uniqueId': 121, 'globalId': None, 'success': True},\n",
       "  {'objectId': 122, 'uniqueId': 122, 'globalId': None, 'success': True},\n",
       "  {'objectId': 123, 'uniqueId': 123, 'globalId': None, 'success': True},\n",
       "  {'objectId': 124, 'uniqueId': 124, 'globalId': None, 'success': True},\n",
       "  {'objectId': 125, 'uniqueId': 125, 'globalId': None, 'success': True},\n",
       "  {'objectId': 126, 'uniqueId': 126, 'globalId': None, 'success': True},\n",
       "  {'objectId': 127, 'uniqueId': 127, 'globalId': None, 'success': True},\n",
       "  {'objectId': 128, 'uniqueId': 128, 'globalId': None, 'success': True},\n",
       "  {'objectId': 129, 'uniqueId': 129, 'globalId': None, 'success': True},\n",
       "  {'objectId': 130, 'uniqueId': 130, 'globalId': None, 'success': True},\n",
       "  {'objectId': 131, 'uniqueId': 131, 'globalId': None, 'success': True},\n",
       "  {'objectId': 132, 'uniqueId': 132, 'globalId': None, 'success': True},\n",
       "  {'objectId': 133, 'uniqueId': 133, 'globalId': None, 'success': True},\n",
       "  {'objectId': 134, 'uniqueId': 134, 'globalId': None, 'success': True},\n",
       "  {'objectId': 135, 'uniqueId': 135, 'globalId': None, 'success': True},\n",
       "  {'objectId': 136, 'uniqueId': 136, 'globalId': None, 'success': True},\n",
       "  {'objectId': 137, 'uniqueId': 137, 'globalId': None, 'success': True},\n",
       "  {'objectId': 138, 'uniqueId': 138, 'globalId': None, 'success': True},\n",
       "  {'objectId': 139, 'uniqueId': 139, 'globalId': None, 'success': True},\n",
       "  {'objectId': 140, 'uniqueId': 140, 'globalId': None, 'success': True},\n",
       "  {'objectId': 141, 'uniqueId': 141, 'globalId': None, 'success': True},\n",
       "  {'objectId': 142, 'uniqueId': 142, 'globalId': None, 'success': True},\n",
       "  {'objectId': 143, 'uniqueId': 143, 'globalId': None, 'success': True},\n",
       "  {'objectId': 144, 'uniqueId': 144, 'globalId': None, 'success': True},\n",
       "  {'objectId': 145, 'uniqueId': 145, 'globalId': None, 'success': True},\n",
       "  {'objectId': 146, 'uniqueId': 146, 'globalId': None, 'success': True},\n",
       "  {'objectId': 147, 'uniqueId': 147, 'globalId': None, 'success': True},\n",
       "  {'objectId': 148, 'uniqueId': 148, 'globalId': None, 'success': True},\n",
       "  {'objectId': 149, 'uniqueId': 149, 'globalId': None, 'success': True},\n",
       "  {'objectId': 150, 'uniqueId': 150, 'globalId': None, 'success': True},\n",
       "  {'objectId': 151, 'uniqueId': 151, 'globalId': None, 'success': True},\n",
       "  {'objectId': 152, 'uniqueId': 152, 'globalId': None, 'success': True},\n",
       "  {'objectId': 153, 'uniqueId': 153, 'globalId': None, 'success': True},\n",
       "  {'objectId': 154, 'uniqueId': 154, 'globalId': None, 'success': True},\n",
       "  {'objectId': 155, 'uniqueId': 155, 'globalId': None, 'success': True},\n",
       "  {'objectId': 156, 'uniqueId': 156, 'globalId': None, 'success': True},\n",
       "  {'objectId': 157, 'uniqueId': 157, 'globalId': None, 'success': True},\n",
       "  {'objectId': 158, 'uniqueId': 158, 'globalId': None, 'success': True},\n",
       "  {'objectId': 159, 'uniqueId': 159, 'globalId': None, 'success': True},\n",
       "  {'objectId': 160, 'uniqueId': 160, 'globalId': None, 'success': True},\n",
       "  {'objectId': 161, 'uniqueId': 161, 'globalId': None, 'success': True},\n",
       "  {'objectId': 162, 'uniqueId': 162, 'globalId': None, 'success': True},\n",
       "  {'objectId': 163, 'uniqueId': 163, 'globalId': None, 'success': True},\n",
       "  {'objectId': 164, 'uniqueId': 164, 'globalId': None, 'success': True},\n",
       "  {'objectId': 165, 'uniqueId': 165, 'globalId': None, 'success': True},\n",
       "  {'objectId': 166, 'uniqueId': 166, 'globalId': None, 'success': True},\n",
       "  {'objectId': 167, 'uniqueId': 167, 'globalId': None, 'success': True},\n",
       "  {'objectId': 168, 'uniqueId': 168, 'globalId': None, 'success': True},\n",
       "  {'objectId': 169, 'uniqueId': 169, 'globalId': None, 'success': True},\n",
       "  {'objectId': 170, 'uniqueId': 170, 'globalId': None, 'success': True},\n",
       "  {'objectId': 171, 'uniqueId': 171, 'globalId': None, 'success': True},\n",
       "  {'objectId': 172, 'uniqueId': 172, 'globalId': None, 'success': True},\n",
       "  {'objectId': 173, 'uniqueId': 173, 'globalId': None, 'success': True},\n",
       "  {'objectId': 174, 'uniqueId': 174, 'globalId': None, 'success': True},\n",
       "  {'objectId': 175, 'uniqueId': 175, 'globalId': None, 'success': True},\n",
       "  {'objectId': 176, 'uniqueId': 176, 'globalId': None, 'success': True},\n",
       "  {'objectId': 177, 'uniqueId': 177, 'globalId': None, 'success': True},\n",
       "  {'objectId': 178, 'uniqueId': 178, 'globalId': None, 'success': True},\n",
       "  {'objectId': 179, 'uniqueId': 179, 'globalId': None, 'success': True},\n",
       "  {'objectId': 180, 'uniqueId': 180, 'globalId': None, 'success': True},\n",
       "  {'objectId': 181, 'uniqueId': 181, 'globalId': None, 'success': True},\n",
       "  {'objectId': 182, 'uniqueId': 182, 'globalId': None, 'success': True},\n",
       "  {'objectId': 183, 'uniqueId': 183, 'globalId': None, 'success': True},\n",
       "  {'objectId': 184, 'uniqueId': 184, 'globalId': None, 'success': True},\n",
       "  {'objectId': 185, 'uniqueId': 185, 'globalId': None, 'success': True},\n",
       "  {'objectId': 186, 'uniqueId': 186, 'globalId': None, 'success': True},\n",
       "  {'objectId': 187, 'uniqueId': 187, 'globalId': None, 'success': True},\n",
       "  {'objectId': 188, 'uniqueId': 188, 'globalId': None, 'success': True},\n",
       "  {'objectId': 189, 'uniqueId': 189, 'globalId': None, 'success': True},\n",
       "  {'objectId': 190, 'uniqueId': 190, 'globalId': None, 'success': True},\n",
       "  {'objectId': 191, 'uniqueId': 191, 'globalId': None, 'success': True},\n",
       "  {'objectId': 192, 'uniqueId': 192, 'globalId': None, 'success': True},\n",
       "  {'objectId': 193, 'uniqueId': 193, 'globalId': None, 'success': True},\n",
       "  {'objectId': 194, 'uniqueId': 194, 'globalId': None, 'success': True},\n",
       "  {'objectId': 195, 'uniqueId': 195, 'globalId': None, 'success': True},\n",
       "  {'objectId': 196, 'uniqueId': 196, 'globalId': None, 'success': True},\n",
       "  {'objectId': 197, 'uniqueId': 197, 'globalId': None, 'success': True},\n",
       "  {'objectId': 198, 'uniqueId': 198, 'globalId': None, 'success': True},\n",
       "  {'objectId': 199, 'uniqueId': 199, 'globalId': None, 'success': True},\n",
       "  {'objectId': 200, 'uniqueId': 200, 'globalId': None, 'success': True},\n",
       "  {'objectId': 201, 'uniqueId': 201, 'globalId': None, 'success': True},\n",
       "  {'objectId': 202, 'uniqueId': 202, 'globalId': None, 'success': True},\n",
       "  {'objectId': 203, 'uniqueId': 203, 'globalId': None, 'success': True},\n",
       "  {'objectId': 204, 'uniqueId': 204, 'globalId': None, 'success': True},\n",
       "  {'objectId': 205, 'uniqueId': 205, 'globalId': None, 'success': True},\n",
       "  {'objectId': 206, 'uniqueId': 206, 'globalId': None, 'success': True},\n",
       "  {'objectId': 207, 'uniqueId': 207, 'globalId': None, 'success': True},\n",
       "  {'objectId': 208, 'uniqueId': 208, 'globalId': None, 'success': True},\n",
       "  {'objectId': 209, 'uniqueId': 209, 'globalId': None, 'success': True},\n",
       "  {'objectId': 210, 'uniqueId': 210, 'globalId': None, 'success': True},\n",
       "  {'objectId': 211, 'uniqueId': 211, 'globalId': None, 'success': True},\n",
       "  {'objectId': 212, 'uniqueId': 212, 'globalId': None, 'success': True},\n",
       "  {'objectId': 213, 'uniqueId': 213, 'globalId': None, 'success': True},\n",
       "  {'objectId': 214, 'uniqueId': 214, 'globalId': None, 'success': True},\n",
       "  {'objectId': 215, 'uniqueId': 215, 'globalId': None, 'success': True},\n",
       "  {'objectId': 216, 'uniqueId': 216, 'globalId': None, 'success': True},\n",
       "  {'objectId': 217, 'uniqueId': 217, 'globalId': None, 'success': True},\n",
       "  {'objectId': 218, 'uniqueId': 218, 'globalId': None, 'success': True},\n",
       "  {'objectId': 219, 'uniqueId': 219, 'globalId': None, 'success': True},\n",
       "  {'objectId': 220, 'uniqueId': 220, 'globalId': None, 'success': True},\n",
       "  {'objectId': 221, 'uniqueId': 221, 'globalId': None, 'success': True},\n",
       "  {'objectId': 222, 'uniqueId': 222, 'globalId': None, 'success': True},\n",
       "  {'objectId': 223, 'uniqueId': 223, 'globalId': None, 'success': True},\n",
       "  {'objectId': 224, 'uniqueId': 224, 'globalId': None, 'success': True},\n",
       "  {'objectId': 225, 'uniqueId': 225, 'globalId': None, 'success': True},\n",
       "  {'objectId': 226, 'uniqueId': 226, 'globalId': None, 'success': True},\n",
       "  {'objectId': 227, 'uniqueId': 227, 'globalId': None, 'success': True},\n",
       "  {'objectId': 228, 'uniqueId': 228, 'globalId': None, 'success': True},\n",
       "  {'objectId': 229, 'uniqueId': 229, 'globalId': None, 'success': True},\n",
       "  {'objectId': 230, 'uniqueId': 230, 'globalId': None, 'success': True},\n",
       "  {'objectId': 231, 'uniqueId': 231, 'globalId': None, 'success': True},\n",
       "  {'objectId': 232, 'uniqueId': 232, 'globalId': None, 'success': True},\n",
       "  {'objectId': 233, 'uniqueId': 233, 'globalId': None, 'success': True},\n",
       "  {'objectId': 234, 'uniqueId': 234, 'globalId': None, 'success': True},\n",
       "  {'objectId': 235, 'uniqueId': 235, 'globalId': None, 'success': True},\n",
       "  {'objectId': 236, 'uniqueId': 236, 'globalId': None, 'success': True},\n",
       "  {'objectId': 237, 'uniqueId': 237, 'globalId': None, 'success': True},\n",
       "  {'objectId': 238, 'uniqueId': 238, 'globalId': None, 'success': True},\n",
       "  {'objectId': 239, 'uniqueId': 239, 'globalId': None, 'success': True},\n",
       "  {'objectId': 240, 'uniqueId': 240, 'globalId': None, 'success': True},\n",
       "  {'objectId': 241, 'uniqueId': 241, 'globalId': None, 'success': True},\n",
       "  {'objectId': 242, 'uniqueId': 242, 'globalId': None, 'success': True},\n",
       "  {'objectId': 243, 'uniqueId': 243, 'globalId': None, 'success': True},\n",
       "  {'objectId': 244, 'uniqueId': 244, 'globalId': None, 'success': True},\n",
       "  {'objectId': 245, 'uniqueId': 245, 'globalId': None, 'success': True},\n",
       "  {'objectId': 246, 'uniqueId': 246, 'globalId': None, 'success': True},\n",
       "  {'objectId': 247, 'uniqueId': 247, 'globalId': None, 'success': True},\n",
       "  {'objectId': 248, 'uniqueId': 248, 'globalId': None, 'success': True},\n",
       "  {'objectId': 249, 'uniqueId': 249, 'globalId': None, 'success': True},\n",
       "  {'objectId': 250, 'uniqueId': 250, 'globalId': None, 'success': True},\n",
       "  {'objectId': 251, 'uniqueId': 251, 'globalId': None, 'success': True},\n",
       "  {'objectId': 252, 'uniqueId': 252, 'globalId': None, 'success': True},\n",
       "  {'objectId': 253, 'uniqueId': 253, 'globalId': None, 'success': True},\n",
       "  {'objectId': 254, 'uniqueId': 254, 'globalId': None, 'success': True},\n",
       "  {'objectId': 255, 'uniqueId': 255, 'globalId': None, 'success': True},\n",
       "  {'objectId': 256, 'uniqueId': 256, 'globalId': None, 'success': True},\n",
       "  {'objectId': 257, 'uniqueId': 257, 'globalId': None, 'success': True},\n",
       "  {'objectId': 258, 'uniqueId': 258, 'globalId': None, 'success': True},\n",
       "  {'objectId': 259, 'uniqueId': 259, 'globalId': None, 'success': True},\n",
       "  {'objectId': 260, 'uniqueId': 260, 'globalId': None, 'success': True},\n",
       "  {'objectId': 261, 'uniqueId': 261, 'globalId': None, 'success': True},\n",
       "  {'objectId': 262, 'uniqueId': 262, 'globalId': None, 'success': True},\n",
       "  {'objectId': 263, 'uniqueId': 263, 'globalId': None, 'success': True},\n",
       "  {'objectId': 264, 'uniqueId': 264, 'globalId': None, 'success': True},\n",
       "  {'objectId': 265, 'uniqueId': 265, 'globalId': None, 'success': True},\n",
       "  {'objectId': 266, 'uniqueId': 266, 'globalId': None, 'success': True},\n",
       "  {'objectId': 267, 'uniqueId': 267, 'globalId': None, 'success': True},\n",
       "  {'objectId': 268, 'uniqueId': 268, 'globalId': None, 'success': True},\n",
       "  {'objectId': 269, 'uniqueId': 269, 'globalId': None, 'success': True},\n",
       "  {'objectId': 270, 'uniqueId': 270, 'globalId': None, 'success': True},\n",
       "  {'objectId': 271, 'uniqueId': 271, 'globalId': None, 'success': True},\n",
       "  {'objectId': 272, 'uniqueId': 272, 'globalId': None, 'success': True},\n",
       "  {'objectId': 273, 'uniqueId': 273, 'globalId': None, 'success': True},\n",
       "  {'objectId': 274, 'uniqueId': 274, 'globalId': None, 'success': True},\n",
       "  {'objectId': 275, 'uniqueId': 275, 'globalId': None, 'success': True},\n",
       "  {'objectId': 276, 'uniqueId': 276, 'globalId': None, 'success': True},\n",
       "  {'objectId': 277, 'uniqueId': 277, 'globalId': None, 'success': True},\n",
       "  {'objectId': 278, 'uniqueId': 278, 'globalId': None, 'success': True},\n",
       "  {'objectId': 279, 'uniqueId': 279, 'globalId': None, 'success': True},\n",
       "  {'objectId': 280, 'uniqueId': 280, 'globalId': None, 'success': True},\n",
       "  {'objectId': 281, 'uniqueId': 281, 'globalId': None, 'success': True},\n",
       "  {'objectId': 282, 'uniqueId': 282, 'globalId': None, 'success': True},\n",
       "  {'objectId': 283, 'uniqueId': 283, 'globalId': None, 'success': True},\n",
       "  {'objectId': 284, 'uniqueId': 284, 'globalId': None, 'success': True},\n",
       "  {'objectId': 285, 'uniqueId': 285, 'globalId': None, 'success': True},\n",
       "  {'objectId': 286, 'uniqueId': 286, 'globalId': None, 'success': True},\n",
       "  {'objectId': 287, 'uniqueId': 287, 'globalId': None, 'success': True},\n",
       "  {'objectId': 288, 'uniqueId': 288, 'globalId': None, 'success': True},\n",
       "  {'objectId': 289, 'uniqueId': 289, 'globalId': None, 'success': True},\n",
       "  {'objectId': 290, 'uniqueId': 290, 'globalId': None, 'success': True},\n",
       "  {'objectId': 291, 'uniqueId': 291, 'globalId': None, 'success': True},\n",
       "  {'objectId': 292, 'uniqueId': 292, 'globalId': None, 'success': True},\n",
       "  {'objectId': 293, 'uniqueId': 293, 'globalId': None, 'success': True},\n",
       "  {'objectId': 294, 'uniqueId': 294, 'globalId': None, 'success': True},\n",
       "  {'objectId': 295, 'uniqueId': 295, 'globalId': None, 'success': True},\n",
       "  {'objectId': 296, 'uniqueId': 296, 'globalId': None, 'success': True},\n",
       "  {'objectId': 297, 'uniqueId': 297, 'globalId': None, 'success': True},\n",
       "  {'objectId': 298, 'uniqueId': 298, 'globalId': None, 'success': True},\n",
       "  {'objectId': 299, 'uniqueId': 299, 'globalId': None, 'success': True},\n",
       "  {'objectId': 300, 'uniqueId': 300, 'globalId': None, 'success': True},\n",
       "  {'objectId': 301, 'uniqueId': 301, 'globalId': None, 'success': True},\n",
       "  {'objectId': 302, 'uniqueId': 302, 'globalId': None, 'success': True},\n",
       "  {'objectId': 303, 'uniqueId': 303, 'globalId': None, 'success': True},\n",
       "  {'objectId': 304, 'uniqueId': 304, 'globalId': None, 'success': True},\n",
       "  {'objectId': 305, 'uniqueId': 305, 'globalId': None, 'success': True},\n",
       "  {'objectId': 306, 'uniqueId': 306, 'globalId': None, 'success': True},\n",
       "  {'objectId': 307, 'uniqueId': 307, 'globalId': None, 'success': True},\n",
       "  {'objectId': 308, 'uniqueId': 308, 'globalId': None, 'success': True},\n",
       "  {'objectId': 309, 'uniqueId': 309, 'globalId': None, 'success': True},\n",
       "  {'objectId': 310, 'uniqueId': 310, 'globalId': None, 'success': True},\n",
       "  {'objectId': 311, 'uniqueId': 311, 'globalId': None, 'success': True},\n",
       "  {'objectId': 312, 'uniqueId': 312, 'globalId': None, 'success': True},\n",
       "  {'objectId': 313, 'uniqueId': 313, 'globalId': None, 'success': True},\n",
       "  {'objectId': 314, 'uniqueId': 314, 'globalId': None, 'success': True},\n",
       "  {'objectId': 315, 'uniqueId': 315, 'globalId': None, 'success': True},\n",
       "  {'objectId': 316, 'uniqueId': 316, 'globalId': None, 'success': True},\n",
       "  {'objectId': 317, 'uniqueId': 317, 'globalId': None, 'success': True},\n",
       "  {'objectId': 318, 'uniqueId': 318, 'globalId': None, 'success': True},\n",
       "  {'objectId': 319, 'uniqueId': 319, 'globalId': None, 'success': True},\n",
       "  {'objectId': 320, 'uniqueId': 320, 'globalId': None, 'success': True},\n",
       "  {'objectId': 321, 'uniqueId': 321, 'globalId': None, 'success': True},\n",
       "  {'objectId': 322, 'uniqueId': 322, 'globalId': None, 'success': True},\n",
       "  {'objectId': 323, 'uniqueId': 323, 'globalId': None, 'success': True},\n",
       "  {'objectId': 324, 'uniqueId': 324, 'globalId': None, 'success': True},\n",
       "  {'objectId': 325, 'uniqueId': 325, 'globalId': None, 'success': True},\n",
       "  {'objectId': 326, 'uniqueId': 326, 'globalId': None, 'success': True},\n",
       "  {'objectId': 327, 'uniqueId': 327, 'globalId': None, 'success': True},\n",
       "  {'objectId': 328, 'uniqueId': 328, 'globalId': None, 'success': True},\n",
       "  {'objectId': 329, 'uniqueId': 329, 'globalId': None, 'success': True},\n",
       "  {'objectId': 330, 'uniqueId': 330, 'globalId': None, 'success': True},\n",
       "  {'objectId': 331, 'uniqueId': 331, 'globalId': None, 'success': True},\n",
       "  {'objectId': 332, 'uniqueId': 332, 'globalId': None, 'success': True},\n",
       "  {'objectId': 333, 'uniqueId': 333, 'globalId': None, 'success': True},\n",
       "  {'objectId': 334, 'uniqueId': 334, 'globalId': None, 'success': True},\n",
       "  {'objectId': 335, 'uniqueId': 335, 'globalId': None, 'success': True},\n",
       "  {'objectId': 336, 'uniqueId': 336, 'globalId': None, 'success': True},\n",
       "  {'objectId': 337, 'uniqueId': 337, 'globalId': None, 'success': True},\n",
       "  {'objectId': 338, 'uniqueId': 338, 'globalId': None, 'success': True},\n",
       "  {'objectId': 339, 'uniqueId': 339, 'globalId': None, 'success': True},\n",
       "  {'objectId': 340, 'uniqueId': 340, 'globalId': None, 'success': True},\n",
       "  {'objectId': 341, 'uniqueId': 341, 'globalId': None, 'success': True},\n",
       "  {'objectId': 342, 'uniqueId': 342, 'globalId': None, 'success': True},\n",
       "  {'objectId': 343, 'uniqueId': 343, 'globalId': None, 'success': True},\n",
       "  {'objectId': 344, 'uniqueId': 344, 'globalId': None, 'success': True},\n",
       "  {'objectId': 345, 'uniqueId': 345, 'globalId': None, 'success': True},\n",
       "  {'objectId': 346, 'uniqueId': 346, 'globalId': None, 'success': True},\n",
       "  {'objectId': 347, 'uniqueId': 347, 'globalId': None, 'success': True},\n",
       "  {'objectId': 348, 'uniqueId': 348, 'globalId': None, 'success': True},\n",
       "  {'objectId': 349, 'uniqueId': 349, 'globalId': None, 'success': True},\n",
       "  {'objectId': 350, 'uniqueId': 350, 'globalId': None, 'success': True},\n",
       "  {'objectId': 351, 'uniqueId': 351, 'globalId': None, 'success': True},\n",
       "  {'objectId': 352, 'uniqueId': 352, 'globalId': None, 'success': True},\n",
       "  {'objectId': 353, 'uniqueId': 353, 'globalId': None, 'success': True},\n",
       "  {'objectId': 354, 'uniqueId': 354, 'globalId': None, 'success': True},\n",
       "  {'objectId': 355, 'uniqueId': 355, 'globalId': None, 'success': True},\n",
       "  {'objectId': 356, 'uniqueId': 356, 'globalId': None, 'success': True},\n",
       "  {'objectId': 357, 'uniqueId': 357, 'globalId': None, 'success': True},\n",
       "  {'objectId': 358, 'uniqueId': 358, 'globalId': None, 'success': True},\n",
       "  {'objectId': 359, 'uniqueId': 359, 'globalId': None, 'success': True},\n",
       "  {'objectId': 360, 'uniqueId': 360, 'globalId': None, 'success': True},\n",
       "  {'objectId': 361, 'uniqueId': 361, 'globalId': None, 'success': True},\n",
       "  {'objectId': 362, 'uniqueId': 362, 'globalId': None, 'success': True},\n",
       "  {'objectId': 363, 'uniqueId': 363, 'globalId': None, 'success': True},\n",
       "  {'objectId': 364, 'uniqueId': 364, 'globalId': None, 'success': True},\n",
       "  {'objectId': 365, 'uniqueId': 365, 'globalId': None, 'success': True},\n",
       "  {'objectId': 366, 'uniqueId': 366, 'globalId': None, 'success': True},\n",
       "  {'objectId': 367, 'uniqueId': 367, 'globalId': None, 'success': True},\n",
       "  {'objectId': 368, 'uniqueId': 368, 'globalId': None, 'success': True},\n",
       "  {'objectId': 369, 'uniqueId': 369, 'globalId': None, 'success': True},\n",
       "  {'objectId': 370, 'uniqueId': 370, 'globalId': None, 'success': True},\n",
       "  {'objectId': 371, 'uniqueId': 371, 'globalId': None, 'success': True},\n",
       "  {'objectId': 372, 'uniqueId': 372, 'globalId': None, 'success': True},\n",
       "  {'objectId': 373, 'uniqueId': 373, 'globalId': None, 'success': True},\n",
       "  {'objectId': 374, 'uniqueId': 374, 'globalId': None, 'success': True},\n",
       "  {'objectId': 375, 'uniqueId': 375, 'globalId': None, 'success': True},\n",
       "  {'objectId': 376, 'uniqueId': 376, 'globalId': None, 'success': True},\n",
       "  {'objectId': 377, 'uniqueId': 377, 'globalId': None, 'success': True},\n",
       "  {'objectId': 378, 'uniqueId': 378, 'globalId': None, 'success': True},\n",
       "  {'objectId': 379, 'uniqueId': 379, 'globalId': None, 'success': True},\n",
       "  {'objectId': 380, 'uniqueId': 380, 'globalId': None, 'success': True},\n",
       "  {'objectId': 381, 'uniqueId': 381, 'globalId': None, 'success': True},\n",
       "  {'objectId': 382, 'uniqueId': 382, 'globalId': None, 'success': True},\n",
       "  {'objectId': 383, 'uniqueId': 383, 'globalId': None, 'success': True},\n",
       "  {'objectId': 384, 'uniqueId': 384, 'globalId': None, 'success': True},\n",
       "  {'objectId': 385, 'uniqueId': 385, 'globalId': None, 'success': True},\n",
       "  {'objectId': 386, 'uniqueId': 386, 'globalId': None, 'success': True},\n",
       "  {'objectId': 387, 'uniqueId': 387, 'globalId': None, 'success': True},\n",
       "  {'objectId': 388, 'uniqueId': 388, 'globalId': None, 'success': True},\n",
       "  {'objectId': 389, 'uniqueId': 389, 'globalId': None, 'success': True},\n",
       "  {'objectId': 390, 'uniqueId': 390, 'globalId': None, 'success': True},\n",
       "  {'objectId': 391, 'uniqueId': 391, 'globalId': None, 'success': True},\n",
       "  {'objectId': 392, 'uniqueId': 392, 'globalId': None, 'success': True},\n",
       "  {'objectId': 393, 'uniqueId': 393, 'globalId': None, 'success': True},\n",
       "  {'objectId': 394, 'uniqueId': 394, 'globalId': None, 'success': True},\n",
       "  {'objectId': 395, 'uniqueId': 395, 'globalId': None, 'success': True},\n",
       "  {'objectId': 396, 'uniqueId': 396, 'globalId': None, 'success': True},\n",
       "  {'objectId': 397, 'uniqueId': 397, 'globalId': None, 'success': True},\n",
       "  {'objectId': 398, 'uniqueId': 398, 'globalId': None, 'success': True},\n",
       "  {'objectId': 399, 'uniqueId': 399, 'globalId': None, 'success': True},\n",
       "  {'objectId': 400, 'uniqueId': 400, 'globalId': None, 'success': True},\n",
       "  {'objectId': 401, 'uniqueId': 401, 'globalId': None, 'success': True},\n",
       "  {'objectId': 402, 'uniqueId': 402, 'globalId': None, 'success': True},\n",
       "  {'objectId': 403, 'uniqueId': 403, 'globalId': None, 'success': True},\n",
       "  {'objectId': 404, 'uniqueId': 404, 'globalId': None, 'success': True},\n",
       "  {'objectId': 405, 'uniqueId': 405, 'globalId': None, 'success': True},\n",
       "  {'objectId': 406, 'uniqueId': 406, 'globalId': None, 'success': True},\n",
       "  {'objectId': 407, 'uniqueId': 407, 'globalId': None, 'success': True},\n",
       "  {'objectId': 408, 'uniqueId': 408, 'globalId': None, 'success': True},\n",
       "  {'objectId': 409, 'uniqueId': 409, 'globalId': None, 'success': True},\n",
       "  {'objectId': 410, 'uniqueId': 410, 'globalId': None, 'success': True},\n",
       "  {'objectId': 411, 'uniqueId': 411, 'globalId': None, 'success': True},\n",
       "  {'objectId': 412, 'uniqueId': 412, 'globalId': None, 'success': True}],\n",
       " 'updateResults': [],\n",
       " 'deleteResults': []}"
      ]
     },
     "execution_count": 36,
     "metadata": {},
     "output_type": "execute_result"
    }
   ],
   "source": [
    "adds_res = flayer_summarized.edit_features(adds=features)\n",
    "adds_res"
   ]
  },
  {
   "cell_type": "code",
   "execution_count": null,
   "metadata": {},
   "outputs": [],
   "source": []
  }
 ],
 "metadata": {
  "interpreter": {
   "hash": "7506eb7749ec925e26297f6bb359b014fe11638d3184b88e2b8ce8d755dc6e90"
  },
  "kernelspec": {
   "display_name": "Python 3 (ipykernel)",
   "language": "python",
   "name": "python3"
  },
  "language_info": {
   "codemirror_mode": {
    "name": "ipython",
    "version": 3
   },
   "file_extension": ".py",
   "mimetype": "text/x-python",
   "name": "python",
   "nbconvert_exporter": "python",
   "pygments_lexer": "ipython3",
   "version": "3.9.6"
  }
 },
 "nbformat": 4,
 "nbformat_minor": 4
}
